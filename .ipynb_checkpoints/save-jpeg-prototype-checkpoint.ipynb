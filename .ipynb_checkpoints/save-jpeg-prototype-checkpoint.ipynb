{
 "cells": [
  {
   "cell_type": "code",
   "execution_count": 44,
   "metadata": {},
   "outputs": [],
   "source": [
    "# TODO : TEST https://www.tensorflow.org/api_docs/python/tf/io/encode_jpeg"
   ]
  },
  {
   "cell_type": "code",
   "execution_count": 74,
   "metadata": {},
   "outputs": [],
   "source": [
    "from pydicom import dcmread, dcmwrite, Dataset, DataElement\n",
    "from pydicom.encaps import encapsulate\n",
    "import matplotlib.pyplot as plt\n",
    "%matplotlib inline\n",
    "from pathlib import Path\n",
    "import numpy as np\n",
    "from simplejpeg import is_jpeg, decode_jpeg, decode_jpeg_header, encode_jpeg"
   ]
  },
  {
   "cell_type": "code",
   "execution_count": 35,
   "metadata": {},
   "outputs": [],
   "source": [
    "folder = Path('/home/anvar/work/data/for_jpeg')\n",
    "uid = '1.2.826.0.1.3680043.2.135.737538.61533215.7.1607388345.750.77'\n",
    "\n",
    "dcm_rgb_lossy = dcmread('gdcm_lossy.dcm')\n",
    "dcm_rgb = dcmread(folder / uid / 'covid' / '1.2.826.0.1.3680043.9.7574.1.55.772.37.616.3.1614346583.426.3.62.dcm')"
   ]
  },
  {
   "cell_type": "markdown",
   "metadata": {},
   "source": [
    "### New tags\n",
    "\n",
    "- DerivationCodeSequence\n",
    "- DerivationDescription\n",
    "- LossyImageCompressionRatio\n",
    "- LossyImageCompression\n",
    "- SourceImageSequence\n",
    "\n",
    "### Changed tags\n",
    "\n",
    "- (0008, 0008) Image Type                          CS: ['DERIVED ', 'PRIMARY', 'AXIAL']\n",
    "- (0008, 0008) Image Type                          CS: ['ORIGINAL', 'PRIMARY', 'AXIAL']\n",
    "\n",
    "---\n",
    "\n",
    "- (0008, 1140) Referenced Image Sequence           SQ: <Sequence, length 1>\n",
    "- (0008, 1140) Referenced Image Sequence           SQ: <Sequence, length 1>\n",
    "\n",
    "---\n",
    "\n",
    "- (0008, 0018) SOP Instance UID                    UI: 1.2.826.0.1.3680043.2.1143.9872100504363308511163387960299132440\n",
    "- (0008, 0018) SOP Instance UID                    UI: 1.2.826.0.1.3680043.9.7574.1.55.772.37.616.3.1614346583.426.3.62\n",
    "\n",
    "---\n",
    "\n",
    "- (7fe0, 0010) Pixel Data                          OB: Array of 86754 elements\n",
    "- (7fe0, 0010) Pixel Data                          OW: Array of 786432 elements\n",
    "\n",
    "\n",
    "### Change file_meta!"
   ]
  },
  {
   "cell_type": "code",
   "execution_count": 73,
   "metadata": {},
   "outputs": [],
   "source": [
    "from pydicom import Dataset\n",
    "from pydicom.encaps import encapsulate\n",
    "from simplejpeg import encode_jpeg\n",
    "# TODO : test https://www.tensorflow.org/api_docs/python/tf/io/encode_jpeg\n",
    "\n",
    "def array_to_jpeg(pixel_array:np.ndarray, quality:int = 90) -> str:\n",
    "    \"\"\"Encodes RGB, uint8 array using JPEG.\n",
    "    \n",
    "    Parameters\n",
    "    ---\n",
    "    \n",
    "    pixel_array - nd.array,\n",
    "        3-channel RGB array\n",
    "    \n",
    "    quality - int,\n",
    "        image quality, directly affects compression ratio, default is 90 (~1/9 compression).\n",
    "        \n",
    "    Returns:\n",
    "    ---\n",
    "    \n",
    "    jpeg_img - byte string\n",
    "    \n",
    "    Warning: DO NOT use this to compress grayscale single-channel uint16 images! \n",
    "    \"\"\"\n",
    "    # TODO move warning to exception\n",
    "    \n",
    "    assert len(pixel_array.shape) == 3\n",
    "    assert pixel_array.shape[2] == 3\n",
    "    \n",
    "    return encode_jpeg(pixel_array, quality=quality)\n",
    "\n",
    "def _add_tags_jpeg(instance: Dataset, compression_ratio:float) -> Dataset:\n",
    "    \"\"\"Adds dicom tags required by JPEG Baseline (Process 1).\"\"\"\n",
    "    \n",
    "#     DerivationCodeSequence\n",
    "#     SourceImageSequence\n",
    "    instance.DerivationDescription = 'lossy jpeg compression'\n",
    "    instance.LossyImageCompressionRatio = str(compression_ratio)\n",
    "    instance.LossyImageCompression = '01'\n",
    "    return instance\n",
    "\n",
    "def _update_header_jpeg(instance: Dataset) -> Dataset:\n",
    "    \"\"\"Updates dicom header required by JPEG Baseline (Process 1).\"\"\"\n",
    "    meta = FileMetaDataset()\n",
    "    meta.MediaStorageSOPClassUID = instance.SOPClassUID\n",
    "    meta.MediaStorageSOPInstanceUID = instance.SOPInstanceUID\n",
    "    meta.TransferSyntaxUID = '1.2.840.10008.1.2.4.50'# JPEG Baseline (Process 1)\n",
    "    instance.is_implicit_VR = False\n",
    "    instance.is_little_endian = True\n",
    "    # TODO: Optional Implementation Class UID, Implementation Version Name, Source Application Entity Title\n",
    "    instance.file_meta = meta\n",
    "    instance.preamble = b'\\x00' * 128\n",
    "    return instance\n",
    "\n",
    "def compress_frame(instance: Dataset, quality:int = 90, change_sop_uid=False) -> Dataset:\n",
    "    # TODO: do we need to modify pixel-related tags since jpeg slightly messes up min-max etc.?\n",
    "    \"\"\"\n",
    "    Compresses input instance, modifying PixelData and all required metadata tags.\n",
    "    \"\"\"\n",
    "    \n",
    "    compressed = encapsulate([array_to_jpeg(instance.pixel_array, quality)])\n",
    "    ratio = len(instance.PixelData) / len(compressed)\n",
    "    \n",
    "    instance.PixelData = compressed\n",
    "    instance.ImageType[0] = 'DERIVED'\n",
    "    \n",
    "        \n",
    "    if change_sop_uid: # first change sop_uid if needed, next update header\n",
    "        pass\n",
    "    \n",
    "    _add_tags_jpeg(instance, compression_ratio=ratio)\n",
    "    _update_header_jpeg(instance)\n",
    "    \n",
    "    return instance"
   ]
  },
  {
   "cell_type": "code",
   "execution_count": 78,
   "metadata": {},
   "outputs": [
    {
     "data": {
      "text/plain": [
       "26"
      ]
     },
     "execution_count": 78,
     "metadata": {},
     "output_type": "execute_result"
    }
   ],
   "source": [
    "len('63726561746564206279204149')"
   ]
  },
  {
   "cell_type": "code",
   "execution_count": 77,
   "metadata": {},
   "outputs": [
    {
     "ename": "AttributeError",
     "evalue": "'bytes' object has no attribute 'tobytes'",
     "output_type": "error",
     "traceback": [
      "\u001b[0;31m---------------------------------------------------------------------------\u001b[0m",
      "\u001b[0;31mAttributeError\u001b[0m                            Traceback (most recent call last)",
      "\u001b[0;32m<ipython-input-77-2172f4de1d0b>\u001b[0m in \u001b[0;36m<module>\u001b[0;34m\u001b[0m\n\u001b[0;32m----> 1\u001b[0;31m \u001b[0;34mb'63726561746564206279204149'\u001b[0m\u001b[0;34m.\u001b[0m\u001b[0mtobytes\u001b[0m\u001b[0;34m(\u001b[0m\u001b[0;34m)\u001b[0m\u001b[0;34m\u001b[0m\u001b[0;34m\u001b[0m\u001b[0m\n\u001b[0m",
      "\u001b[0;31mAttributeError\u001b[0m: 'bytes' object has no attribute 'tobytes'"
     ]
    }
   ],
   "source": [
    "b'63726561746564206279204149'.tobytes()"
   ]
  },
  {
   "cell_type": "code",
   "execution_count": 69,
   "metadata": {},
   "outputs": [
    {
     "data": {
      "text/plain": [
       "2"
      ]
     },
     "execution_count": 69,
     "metadata": {},
     "output_type": "execute_result"
    }
   ],
   "source": [
    "len(dcm_rgb_lossy.LossyImageCompression)"
   ]
  },
  {
   "cell_type": "code",
   "execution_count": 72,
   "metadata": {},
   "outputs": [
    {
     "data": {
      "text/plain": [
       "(0008, 1150) Referenced SOP Class UID            UI: Secondary Capture Image Storage\n",
       "(0008, 1155) Referenced SOP Instance UID         UI: 1.2.826.0.1.3680043.9.7574.1.55.772.37.616.3.1614346583.426.3.62\n",
       "(0040, a170)  Purpose of Reference Code Sequence  1 item(s) ---- \n",
       "   (0008, 0100) Code Value                          SH: '121320'\n",
       "   (0008, 0102) Coding Scheme Designator            SH: 'DCM'\n",
       "   (0008, 0104) Code Meaning                        LO: 'Uncompressed predecessor'\n",
       "   ---------"
      ]
     },
     "execution_count": 72,
     "metadata": {},
     "output_type": "execute_result"
    }
   ],
   "source": [
    "dcm_rgb_lossy.SourceImageSequence[0]"
   ]
  },
  {
   "cell_type": "code",
   "execution_count": 63,
   "metadata": {},
   "outputs": [
    {
     "data": {
      "text/plain": [
       "\"9.0667527496599\""
      ]
     },
     "execution_count": 63,
     "metadata": {},
     "output_type": "execute_result"
    }
   ],
   "source": [
    "dcm_rgb_lossy.LossyImageCompressionRatio"
   ]
  },
  {
   "cell_type": "code",
   "execution_count": 64,
   "metadata": {},
   "outputs": [
    {
     "data": {
      "text/plain": [
       "15"
      ]
     },
     "execution_count": 64,
     "metadata": {},
     "output_type": "execute_result"
    }
   ],
   "source": [
    "len(\"9.0667527496599\")"
   ]
  },
  {
   "cell_type": "code",
   "execution_count": 68,
   "metadata": {},
   "outputs": [
    {
     "data": {
      "text/plain": [
       "\"9.0667527496599\""
      ]
     },
     "execution_count": 68,
     "metadata": {},
     "output_type": "execute_result"
    }
   ],
   "source": [
    "dcm_rgb_lossy['LossyImageCompressionRatio'].value"
   ]
  },
  {
   "cell_type": "code",
   "execution_count": null,
   "metadata": {},
   "outputs": [],
   "source": [
    "021120"
   ]
  },
  {
   "cell_type": "code",
   "execution_count": 90,
   "metadata": {},
   "outputs": [
    {
     "data": {
      "text/plain": [
       "(0011, 0002) Private Creator                     LO: '63726561746564206279204149'"
      ]
     },
     "execution_count": 90,
     "metadata": {},
     "output_type": "execute_result"
    }
   ],
   "source": [
    " DataElement((f'0011', '0002'), 'LO', '506f7765726564206279204149')"
   ]
  },
  {
   "cell_type": "code",
   "execution_count": 86,
   "metadata": {},
   "outputs": [
    {
     "data": {
      "text/plain": [
       "Dataset.file_meta -------------------------------\n",
       "(0002, 0002) Media Storage SOP Class UID         UI: Secondary Capture Image Storage\n",
       "(0002, 0003) Media Storage SOP Instance UID      UI: 1.2.826.0.1.3680043.9.7574.1.55.772.37.616.3.1614346583.426.3.62\n",
       "(0002, 0010) Transfer Syntax UID                 UI: Implicit VR Little Endian\n",
       "-------------------------------------------------\n",
       "(0008, 0005) Specific Character Set              CS: 'ISO_IR 100'\n",
       "(0008, 0008) Image Type                          CS: ['ORIGINAL', 'PRIMARY', 'AXIAL']\n",
       "(0008, 0012) Instance Creation Date              DA: '20201207'\n",
       "(0008, 0013) Instance Creation Time              TM: '171952'\n",
       "(0008, 0016) SOP Class UID                       UI: Secondary Capture Image Storage\n",
       "(0008, 0018) SOP Instance UID                    UI: 1.2.826.0.1.3680043.9.7574.1.55.772.37.616.3.1614346583.426.3.62\n",
       "(0008, 0020) Study Date                          DA: '20201207'\n",
       "(0008, 0021) Series Date                         DA: '20210226'\n",
       "(0008, 0022) Acquisition Date                    DA: '20201207'\n",
       "(0008, 0023) Content Date                        DA: '20201207'\n",
       "(0008, 0030) Study Time                          TM: '171403'\n",
       "(0008, 0031) Series Time                         TM: '163612'\n",
       "(0008, 0032) Acquisition Time                    TM: '171536.613753'\n",
       "(0008, 0033) Content Time                        TM: '171952'\n",
       "(0008, 0050) Accession Number                    SH: 'KPP3648027907'\n",
       "(0008, 0060) Modality                            CS: 'CT'\n",
       "(0008, 0070) Manufacturer                        LO: 'GE MEDICAL SYSTEMS'\n",
       "(0008, 0080) Institution Name                    LO: 'MEDSI Solyanka'\n",
       "(0008, 0090) Referring Physician's Name          PN: ''\n",
       "(0008, 103e) Series Description                  LO: 'AI_COVID-IRA'\n",
       "(0008, 1050) Performing Physician's Name         PN: ''\n",
       "(0008, 1090) Manufacturer's Model Name           LO: 'Revolution EVO'\n",
       "(0008, 1140)  Referenced Image Sequence  1 item(s) ---- \n",
       "   (0008, 1150) Referenced SOP Class UID            UI: CT Image Storage\n",
       "   (0008, 1155) Referenced SOP Instance UID         UI: 1.2.826.0.1.3680043.2.135.737538.61533215.7.1607388345.704.75\n",
       "   ---------\n",
       "(0008, 3010) Irradiation Event UID               UI: 1.2.826.0.1.3680043.2.135.737538.61533215.7.1607388345.719.76\n",
       "(0009, 0010) Private Creator                     LO: 'GEMS_IDEN_01'\n",
       "(0009, 1001) [Full fidelity]                     UN: b'CT_LIGHTSPEED '\n",
       "(0009, 1002) [Suite id]                          UN: b'CT01'\n",
       "(0009, 1004) [Product id]                        UN: b'Revolution EVO'\n",
       "(0009, 1027) [Image actual date]                 UN: b'#c\\xce_'\n",
       "(0009, 10e3) [Equipment UID]                     UN: None\n",
       "(0010, 0010) Patient's Name                      PN: 'PAT3172315988'\n",
       "(0010, 0020) Patient ID                          LO: '0011-2607095'\n",
       "(0010, 0030) Patient's Birth Date                DA: '19570102'\n",
       "(0010, 0040) Patient's Sex                       CS: 'M'\n",
       "(0010, 1000) Other Patient IDs                   LO: ''\n",
       "(0018, 0022) Scan Options                        CS: 'HELICAL MODE'\n",
       "(0018, 0050) Slice Thickness                     DS: \"0.625\"\n",
       "(0018, 0060) KVP                                 DS: \"120.0\"\n",
       "(0018, 0088) Spacing Between Slices              DS: \"0.625\"\n",
       "(0018, 0090) Data Collection Diameter            DS: \"500.0\"\n",
       "(0018, 1020) Software Versions                   LO: 'cj_kl.89'\n",
       "(0018, 1100) Reconstruction Diameter             DS: \"500.0\"\n",
       "(0018, 1110) Distance Source to Detector         DS: \"949.147\"\n",
       "(0018, 1111) Distance Source to Patient          DS: \"541.0\"\n",
       "(0018, 1120) Gantry/Detector Tilt                DS: \"0.0\"\n",
       "(0018, 1130) Table Height                        DS: \"209.5\"\n",
       "(0018, 1140) Rotation Direction                  CS: 'CW'\n",
       "(0018, 1150) Exposure Time                       IS: \"600\"\n",
       "(0018, 1151) X-Ray Tube Current                  IS: \"401\"\n",
       "(0018, 1152) Exposure                            IS: \"2\"\n",
       "(0018, 1160) Filter Type                         SH: 'BODY FILTER'\n",
       "(0018, 1170) Generator Power                     IS: \"48000\"\n",
       "(0018, 1190) Focal Spot(s)                       DS: \"1.2\"\n",
       "(0018, 1210) Convolution Kernel                  SH: 'LUNG'\n",
       "(0018, 5100) Patient Position                    CS: 'HFS'\n",
       "(0018, 9305) Revolution Time                     FD: 0.6\n",
       "(0018, 9306) Single Collimation Width            FD: 0.625\n",
       "(0018, 9307) Total Collimation Width             FD: 40.0\n",
       "(0018, 9309) Table Speed                         FD: 91.66666666666667\n",
       "(0018, 9310) Table Feed per Rotation             FD: 55.0\n",
       "(0018, 9311) Spiral Pitch Factor                 FD: 1.375\n",
       "(0019, 0010) Private Creator                     LO: 'GEMS_ACQU_01'\n",
       "(0019, 1002) [Detector Channel]                  UN: b'P\\x03\\x00\\x00'\n",
       "(0019, 1003) [Cell number at Theta]              UN: b'389.750000'\n",
       "(0019, 1004) [Cell spacing]                      UN: b'1.094700'\n",
       "(0019, 100f) [Horiz. Frame of ref.]              UN: b'844.000000'\n",
       "(0019, 1011) [Series contrast]                   UN: b'\\x00\\x00'\n",
       "(0019, 1018) [First scan ras]                    UN: b'I '\n",
       "(0019, 101a) [Last scan ras]                     UN: b'I '\n",
       "(0019, 1023) [Table Speed [mm/rotation]]         UN: b'55.000000 '\n",
       "(0019, 1024) [Mid Scan Time [sec]]               UN: b'0.360976'\n",
       "(0019, 1025) [Mid scan flag]                     UN: b'\\x01\\x00'\n",
       "(0019, 1026) [Tube Azimuth [degree]]             UN: b'\\xff\\xff\\xff\\xff'\n",
       "(0019, 1027) [Rotation Speed [msec]]             UN: b'0.600000'\n",
       "(0019, 102c) [Number of triggers]                UN: b'S\\x1d\\x00\\x00'\n",
       "(0019, 102e) [Angle of first view]               UN: b'0.000000'\n",
       "(0019, 102f) [Trigger frequency]                 UN: b'1640.000000 '\n",
       "(0019, 1039) [SFOV Type]                         UN: b'\\x00\\x04'\n",
       "(0019, 1042) [Segment Number]                    UN: b'\\x00\\x00'\n",
       "(0019, 1043) [Total Segments Required]           UN: b'\\x00\\x00'\n",
       "(0019, 1047) [View compression factor]           UN: b'\\x01\\x00'\n",
       "(0019, 1052) [Recon post proc. Flag]             UN: b'\\x01\\x00'\n",
       "(0019, 106a) [Dependent on #views processed]     UN: b'\\x08\\x00'\n",
       "(0020, 000d) Study Instance UID                  UI: 1.2.826.0.1.3680043.2.135.737538.61533215.7.1607388345.750.77\n",
       "(0020, 000e) Series Instance UID                 UI: 1.2.826.0.1.3680043.2.135.737538.61533215.7.1607388345.7.1020.1\n",
       "(0020, 0010) Study ID                            SH: '10193'\n",
       "(0020, 0011) Series Number                       IS: \"3\"\n",
       "(0020, 0012) Acquisition Number                  IS: \"1\"\n",
       "(0020, 0013) Instance Number                     IS: \"4\"\n",
       "(0020, 0032) Image Position (Patient)            DS: [-237.900, -233.100, -36.500]\n",
       "(0020, 0037) Image Orientation (Patient)         DS: [1.000000, 0.000000, 0.000000, 0.000000, 1.000000, 0.000000]\n",
       "(0020, 0052) Frame of Reference UID              UI: 1.2.826.0.1.3680043.2.135.737538.61533215.7.1607388345.797.79\n",
       "(0020, 1040) Position Reference Indicator        LO: 'SN'\n",
       "(0020, 1041) Slice Location                      DS: \"-36.5\"\n",
       "(0021, 0010) Private Creator                     LO: 'GEMS_RELA_01'\n",
       "(0021, 1003) [Series from which Prescribed]      UN: b'\\x02\\x00'\n",
       "(0021, 1035) [Series from which prescribed]      UN: b'\\x01\\x00'\n",
       "(0021, 1036) [Image from which prescribed]       UN: b'\\x02\\x00'\n",
       "(0021, 1091) [Biopsy position]                   UN: b'\\x00\\x00'\n",
       "(0021, 1092) [Biopsy T location]                 UN: b'\\x00\\x00\\x00\\x00'\n",
       "(0021, 1093) [Biopsy ref location]               UN: b'\\x00\\x00\\x00\\x00'\n",
       "(0023, 0010) Private Creator                     LO: 'GEMS_STDY_01'\n",
       "(0023, 1070) [Start time(secs) in first axial]   UN: b\"\\xbbG'\\xce\\x98\\xf3\\xd7A\"\n",
       "(0027, 0010) Private Creator                     LO: 'GEMS_IMAG_01'\n",
       "(0027, 1010) [Scout Type]                        UN: b'\\x00\\x00'\n",
       "(0027, 101c) [Vma mamp]                          UN: b'\\x00\\x00\\x00\\x00'\n",
       "(0027, 101e) [Vma mod]                           UN: b'\\x00\\x00\\x00\\x00'\n",
       "(0027, 101f) [Vma clip]                          UN: b's\\x00\\x00\\x00'\n",
       "(0027, 1020) [Smart scan ON/OFF flag]            UN: b'\\x02\\x00'\n",
       "(0027, 1035) [Plane Type]                        UN: b'\\x02\\x00'\n",
       "(0027, 1042) [Center R coord of plane image]     UN: b'\\x9a\\x99A\\xc1'\n",
       "(0027, 1043) [Center A coord of plane image]     UN: b'33\\x87\\xc1'\n",
       "(0027, 1044) [Center S coord of plane image]     UN: b'\\x00\\x00\\x12\\xc2'\n",
       "(0027, 1045) [Normal R coord]                    UN: b'\\x00\\x00\\x00\\x00'\n",
       "(0027, 1046) [Normal A coord]                    UN: b'\\x00\\x00\\x00\\x80'\n",
       "(0027, 1047) [Normal S coord]                    UN: b'\\x00\\x00\\x80?'\n",
       "(0027, 1050) [Scan Start Location]               UN: b'\\x00\\x00\\x00\\x00'\n",
       "(0027, 1051) [Scan End Location]                 UN: b'\\x00\\x00\\x00\\x00'\n",
       "(0028, 0002) Samples per Pixel                   US: 3\n",
       "(0028, 0004) Photometric Interpretation          CS: 'RGB'\n",
       "(0028, 0006) Planar Configuration                US: 0\n",
       "(0028, 0010) Rows                                US: 512\n",
       "(0028, 0011) Columns                             US: 512\n",
       "(0028, 0030) Pixel Spacing                       DS: [0.976562, 0.976562]\n",
       "(0028, 0100) Bits Allocated                      US: 8\n",
       "(0028, 0101) Bits Stored                         US: 8\n",
       "(0028, 0102) High Bit                            US: 7\n",
       "(0028, 0103) Pixel Representation                US: 0\n",
       "(0028, 0120) Pixel Padding Value                 US: 63536\n",
       "(0028, 1050) Window Center                       DS: \"-700.0\"\n",
       "(0028, 1051) Window Width                        DS: \"1500.0\"\n",
       "(0028, 1052) Rescale Intercept                   DS: \"-1150.0\"\n",
       "(0028, 1053) Rescale Slope                       DS: \"5.882352941176471\"\n",
       "(0028, 1054) Rescale Type                        LO: 'HU'\n",
       "(0032, 1033) Requesting Service                  LO: 'MEDIALOG_KP'\n",
       "(0040, 0244) Performed Procedure Step Start Date DA: '20201207'\n",
       "(0040, 0245) Performed Procedure Step Start Time TM: '171403'\n",
       "(0040, 0253) Performed Procedure Step ID         SH: 'PPS ID  10193'\n",
       "(0040, 0254) Performed Procedure Step Descriptio LO: 'THORAX'\n",
       "(0043, 0010) Private Creator                     LO: 'GEMS_PARM_01'\n",
       "(0043, 1010) [Window value]                      UN: b'\\xdc\\x05'\n",
       "(0043, 1012) [X-ray chain]                       UN: b'c\\x00c\\x00c\\x00'\n",
       "(0043, 1016) [Number of overranges]              UN: b'\\x00\\x00'\n",
       "(0043, 101e) [Delta Start Time [msec]]           UN: b'0.060976'\n",
       "(0043, 101f) [Max overranges in a view]          UN: b'\\x00\\x00\\x00\\x00'\n",
       "(0043, 1021) [Corrected after glow terms]        UN: b'\\x00\\x00'\n",
       "(0043, 1025) [Reference channels]                UN: b'\\x00\\x00\\x00\\x00\\x00\\x00\\x00\\x00\\x00\\x00\\x00\\x00'\n",
       "(0043, 1026) [No views ref chans blocked]        UN: b'\\x00\\x00\\x00\\x00\\x00\\x00\\x00\\x00'\n",
       "(0043, 1027) [Scan Pitch Ratio]                  UN: b'1.375:1 '\n",
       "(0043, 1028) [Unique image iden]                 UN: b'00'\n",
       "(0043, 102b) [Private Scan Options]              UN: b'\\x04\\x00\\x00\\x00\\x00\\x00\\x00\\x00'\n",
       "(0043, 1031) [Recon Center Coordinates]          UN: Array of 22 elements\n",
       "(0043, 1040) [Trigger on position]               UN: b'p\\xce,C'\n",
       "(0043, 1041) [Degree of rotation]                UN: b'<\\xa0+E'\n",
       "(0043, 1042) [DAS trigger source]                UN: b'\\x00\\x00\\x00\\x00'\n",
       "(0043, 1043) [DAS fpa gain]                      UN: b'\\x00\\x00\\x00\\x00'\n",
       "(0043, 1044) [DAS output source]                 UN: b'\\x00\\x00\\x00\\x00'\n",
       "(0043, 1045) [DAS ad input]                      UN: b'\\x00\\x00\\x00\\x00'\n",
       "(0043, 1046) [DAS cal mode]                      UN: b'\\x00\\x00\\x00\\x00'\n",
       "(0043, 104d) [Start scan to X-ray on delay]      UN: b'\\x00\\x00\\x00\\x00'\n",
       "(0043, 104e) [Duration of X-ray on]              UN: b'az\\x92@'\n",
       "(0043, 1064) [Image Filter]                      UN: None\n",
       "(0045, 0010) Private Creator                     LO: 'GEMS_HELIOS_01'\n",
       "(0045, 1001) [Number of Macro Rows in Detector]  UN: b'@\\x00'\n",
       "(0045, 1002) [Macro width at ISO Center]         UN: b'\\x00\\x00 ?'\n",
       "(0045, 1003) [DAS type]                          UN: b'\\x1b\\x00'\n",
       "(0045, 1004) [DAS gain]                          UN: b'\\x04\\x00'\n",
       "(0045, 1006) [Table Direction]                   UN: b'INTO GANTRY '\n",
       "(0045, 1007) [Z smoothing Factor]                UN: b'\\x00\\x00\\x00\\x00'\n",
       "(0045, 1008) [View Weighting Mode]               UN: b'\\x00\\x00'\n",
       "(0045, 1009) [Sigma Row number]                  UN: b'\\x00\\x00'\n",
       "(0045, 100a) [Minimum DAS value]                 UN: b'\\x00\\x00\\x00\\x00'\n",
       "(0045, 100b) [Maximum Offset Value]              UN: b'\\x00\\x00\\x00\\x00'\n",
       "(0045, 100c) [Number of Views shifted]           UN: b'\\x00\\x00'\n",
       "(0045, 100d) [Z tracking Flag]                   UN: b'\\x00\\x00'\n",
       "(0045, 100e) [Mean Z error]                      UN: b'\\x00\\x00\\x00\\x00'\n",
       "(0045, 100f) [Z tracking Error]                  UN: b'\\x00\\x00\\x00\\x00'\n",
       "(0045, 1010) [Start View 2A]                     UN: b'\\x00\\x00'\n",
       "(0045, 1011) [Number of Views 2A]                UN: b'\\x00\\x00'\n",
       "(0045, 1012) [Start View 1A]                     UN: b'\\x00\\x00'\n",
       "(0045, 1013) [Sigma Mode]                        UN: b'\\x00\\x00'\n",
       "(0045, 1014) [Number of Views 1A]                UN: b'\\x00\\x00'\n",
       "(0045, 1015) [Start View 2B]                     UN: b'\\x00\\x00'\n",
       "(0045, 1016) [Number Views 2B]                   UN: b'\\x00\\x00'\n",
       "(0045, 1017) [Start View 1B]                     UN: b'\\x00\\x00'\n",
       "(0045, 1018) [Number of Views 1B]                UN: b'\\x00\\x00'\n",
       "(0045, 1021) [Iterbone Flag]                     UN: b'\\x00\\x00'\n",
       "(0045, 1022) [Perisstaltic Flag]                 UN: b'\\x00\\x00'\n",
       "(0045, 1032) [TemporalResolution]                UN: b'\\x9a\\x99\\x19?'\n",
       "(0045, 103b) [NoiseReductionImageFilterDesc]     UN: None\n",
       "(0053, 0010) Private Creator                     LO: 'GEHC_CT_ADVAPP_001'\n",
       "(0053, 1020) [ShuttleFlag]                       UN: b'0 '\n",
       "(0053, 1040) [IterativeReconAnnotation]          UN: b'SS40'\n",
       "(0053, 1041) [IterativeReconMode]                UN: b'Slice '\n",
       "(0053, 1042) [IterativeReconConfiguration]       UN: b'SS40:Slice'\n",
       "(0053, 1043) [IterativeReconLevel]               UN: b'40'\n",
       "(0053, 1060) [reconFlipRotateAnno]               UN: None\n",
       "(0053, 1061) [highResolutionFlag]                UN: b'0 '\n",
       "(0053, 1062) [RespiratoryFlag]                   UN: b'0 '\n",
       "(0053, 1064) Private tag data                    UN: b'1 '\n",
       "(0053, 1065) Private tag data                    UN: b'35'\n",
       "(0053, 1066) Private tag data                    UN: b'120kV '\n",
       "(0053, 1067) Private tag data                    UN: b'0 '\n",
       "(0053, 1068) Private tag data                    UN: b'0 '\n",
       "(0053, 106a) Private tag data                    UN: b'0 '\n",
       "(0053, 106b) Private tag data                    UN: b'0 '\n",
       "(0053, 106f) Private tag data                    UN: b'40'\n",
       "(0053, 109d) Private tag data                    UN: None\n",
       "(7fe0, 0010) Pixel Data                          OW: Array of 786432 elements"
      ]
     },
     "execution_count": 86,
     "metadata": {},
     "output_type": "execute_result"
    }
   ],
   "source": [
    "dcm_rgb"
   ]
  },
  {
   "cell_type": "code",
   "execution_count": null,
   "metadata": {},
   "outputs": [],
   "source": []
  }
 ],
 "metadata": {
  "kernelspec": {
   "display_name": "Python 3",
   "language": "python",
   "name": "python3"
  },
  "language_info": {
   "codemirror_mode": {
    "name": "ipython",
    "version": 3
   },
   "file_extension": ".py",
   "mimetype": "text/x-python",
   "name": "python",
   "nbconvert_exporter": "python",
   "pygments_lexer": "ipython3",
   "version": "3.8.5"
  }
 },
 "nbformat": 4,
 "nbformat_minor": 4
}
