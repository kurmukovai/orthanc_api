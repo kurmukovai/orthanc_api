{
 "cells": [
  {
   "cell_type": "code",
   "execution_count": 13,
   "metadata": {},
   "outputs": [],
   "source": [
    "from pydicom import dcmread, dcmwrite\n",
    "import matplotlib.pyplot as plt\n",
    "%matplotlib inline\n",
    "from pathlib import Path\n",
    "import numpy as np\n",
    "from pathlib import Path\n",
    "import numpy as np\n",
    "from simplejpeg import is_jpeg, decode_jpeg, decode_jpeg_header, encode_jpeg\n",
    "from turbojpeg import TurboJPEG, TJPF_GRAY, TJSAMP_GRAY, TJFLAG_PROGRESSIVE\n",
    "from cv2 import imwrite\n",
    "from pydicom.encaps import encapsulate"
   ]
  },
  {
   "cell_type": "code",
   "execution_count": 2,
   "metadata": {},
   "outputs": [],
   "source": [
    "folder = Path('/home/anvar/work/data/for_jpeg')\n",
    "uid = '1.2.826.0.1.3680043.2.135.737538.61533215.7.1607388345.750.77'"
   ]
  },
  {
   "cell_type": "code",
   "execution_count": 3,
   "metadata": {},
   "outputs": [],
   "source": [
    "dcm_rgb = dcmread(folder / uid / 'covid' / '1.2.826.0.1.3680043.9.7574.1.55.772.37.616.3.1614346583.426.3.62.dcm')"
   ]
  },
  {
   "cell_type": "code",
   "execution_count": 4,
   "metadata": {},
   "outputs": [
    {
     "name": "stdout",
     "output_type": "stream",
     "text": [
      "You have selected a lossy compression transfer syntax.\r\n",
      "This will degrade the quality of your input image, and can.\r\n",
      "impact professional interpretation of the image.\r\n",
      "Do not use if you do not understand the risk.\r\n",
      "WARNING: this mode is very experimental.\r\n"
     ]
    }
   ],
   "source": [
    "!gdcmconv -J --lossy -q 90 -i /home/anvar/work/data/for_jpeg/1.2.826.0.1.3680043.2.135.737538.61533215.7.1607388345.750.77/covid/1.2.826.0.1.3680043.9.7574.1.55.772.37.616.3.1614346583.426.3.62.dcm -o /home/anvar/work/repos/orthanc_api/gdcm_lossy.dcm"
   ]
  },
  {
   "cell_type": "code",
   "execution_count": 5,
   "metadata": {},
   "outputs": [],
   "source": [
    "dcm_rgb_lossy = dcmread('gdcm_lossy.dcm')"
   ]
  },
  {
   "cell_type": "code",
   "execution_count": 81,
   "metadata": {},
   "outputs": [],
   "source": [
    "pixel_data_jpg_bytes1 = jpeg.encode(dcm_rgb.pixel_array, quality=90)#[..., [0,1,2]], quality=90)\n",
    "pixel_data_jpg_bytes2 = encode_jpeg(dcm_rgb.pixel_array, quality=90)#[..., [0,1,2]], quality=90)"
   ]
  },
  {
   "cell_type": "code",
   "execution_count": 84,
   "metadata": {},
   "outputs": [
    {
     "name": "stdout",
     "output_type": "stream",
     "text": [
      "2.3 ms ± 62.4 µs per loop (mean ± std. dev. of 7 runs, 100 loops each)\n"
     ]
    }
   ],
   "source": [
    "%%timeit\n",
    "\n",
    "pixel_data_jpg_bytes2 = encode_jpeg(dcm_rgb.pixel_array, quality=90)#[..., [0,1,2]], quality=90)"
   ]
  },
  {
   "cell_type": "code",
   "execution_count": 82,
   "metadata": {},
   "outputs": [
    {
     "data": {
      "text/plain": [
       "87670"
      ]
     },
     "execution_count": 82,
     "metadata": {},
     "output_type": "execute_result"
    }
   ],
   "source": [
    "len(pixel_data_jpg_bytes1)"
   ]
  },
  {
   "cell_type": "code",
   "execution_count": 83,
   "metadata": {},
   "outputs": [
    {
     "data": {
      "text/plain": [
       "90827"
      ]
     },
     "execution_count": 83,
     "metadata": {},
     "output_type": "execute_result"
    }
   ],
   "source": [
    "len(pixel_data_jpg_bytes2)"
   ]
  },
  {
   "cell_type": "code",
   "execution_count": 79,
   "metadata": {},
   "outputs": [],
   "source": [
    "dcm_rgb_lossy.PixelData = encapsulate([pixel_data_jpg_bytes])"
   ]
  },
  {
   "cell_type": "code",
   "execution_count": 80,
   "metadata": {},
   "outputs": [],
   "source": [
    "dcmwrite('dcm_lossy_manual.dcm',dcm_rgb_lossy,write_like_original=False)"
   ]
  },
  {
   "cell_type": "markdown",
   "metadata": {},
   "source": [
    "# full volume jpeg"
   ]
  },
  {
   "cell_type": "code",
   "execution_count": 2,
   "metadata": {},
   "outputs": [],
   "source": [
    "import binascii\n",
    "output = binascii.b2a_hex(b'Powered by AI')"
   ]
  },
  {
   "cell_type": "code",
   "execution_count": 5,
   "metadata": {},
   "outputs": [
    {
     "data": {
      "text/plain": [
       "b'506f7765726564206279204149'"
      ]
     },
     "execution_count": 5,
     "metadata": {},
     "output_type": "execute_result"
    }
   ],
   "source": [
    "output"
   ]
  },
  {
   "cell_type": "code",
   "execution_count": 97,
   "metadata": {},
   "outputs": [
    {
     "data": {
      "text/plain": [
       "b'created by AI'"
      ]
     },
     "execution_count": 97,
     "metadata": {},
     "output_type": "execute_result"
    }
   ],
   "source": [
    "binascii.a2b_hex(output)"
   ]
  },
  {
   "cell_type": "code",
   "execution_count": 98,
   "metadata": {},
   "outputs": [
    {
     "data": {
      "text/plain": [
       "26"
      ]
     },
     "execution_count": 98,
     "metadata": {},
     "output_type": "execute_result"
    }
   ],
   "source": [
    "len(output)"
   ]
  },
  {
   "cell_type": "code",
   "execution_count": 87,
   "metadata": {},
   "outputs": [
    {
     "data": {
      "text/plain": [
       "b'created by aik'"
      ]
     },
     "execution_count": 87,
     "metadata": {},
     "output_type": "execute_result"
    }
   ],
   "source": [
    "bytes('created by aik', 'utf-8')"
   ]
  },
  {
   "cell_type": "code",
   "execution_count": 85,
   "metadata": {},
   "outputs": [
    {
     "data": {
      "text/plain": [
       "<generator object Path.glob at 0x7f3b78f8a510>"
      ]
     },
     "execution_count": 85,
     "metadata": {},
     "output_type": "execute_result"
    }
   ],
   "source": [
    "(folder / uid / 'covid').glob('*.dcm')"
   ]
  },
  {
   "cell_type": "code",
   "execution_count": null,
   "metadata": {},
   "outputs": [],
   "source": [
    "dcm_rgb = dcmread(folder / uid / 'covid' / '1.2.826.0.1.3680043.9.7574.1.55.772.37.616.3.1614346583.426.3.62.dcm')"
   ]
  }
 ],
 "metadata": {
  "kernelspec": {
   "display_name": "Python 3",
   "language": "python",
   "name": "python3"
  },
  "language_info": {
   "codemirror_mode": {
    "name": "ipython",
    "version": 3
   },
   "file_extension": ".py",
   "mimetype": "text/x-python",
   "name": "python",
   "nbconvert_exporter": "python",
   "pygments_lexer": "ipython3",
   "version": "3.8.5"
  }
 },
 "nbformat": 4,
 "nbformat_minor": 4
}
