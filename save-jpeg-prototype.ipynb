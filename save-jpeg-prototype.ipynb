{
 "cells": [
  {
   "cell_type": "code",
   "execution_count": 44,
   "metadata": {},
   "outputs": [],
   "source": [
    "# TODO : TEST https://www.tensorflow.org/api_docs/python/tf/io/encode_jpeg"
   ]
  },
  {
   "cell_type": "code",
   "execution_count": 95,
   "metadata": {},
   "outputs": [],
   "source": [
    "\n",
    "from pydicom.dataset import FileMetaDataset"
   ]
  },
  {
   "cell_type": "code",
   "execution_count": 96,
   "metadata": {},
   "outputs": [],
   "source": [
    "from pydicom import dcmread, dcmwrite, Dataset, DataElement, FileDataset\n",
    "from pydicom.encaps import encapsulate\n",
    "import matplotlib.pyplot as plt\n",
    "%matplotlib inline\n",
    "from pathlib import Path\n",
    "import numpy as np\n",
    "from simplejpeg import is_jpeg, decode_jpeg, decode_jpeg_header, encode_jpeg"
   ]
  },
  {
   "cell_type": "code",
   "execution_count": 35,
   "metadata": {},
   "outputs": [],
   "source": [
    "folder = Path('/home/anvar/work/data/for_jpeg')\n",
    "uid = '1.2.826.0.1.3680043.2.135.737538.61533215.7.1607388345.750.77'\n",
    "\n",
    "dcm_rgb_lossy = dcmread('gdcm_lossy.dcm')\n",
    "dcm_rgb = dcmread(folder / uid / 'covid' / '1.2.826.0.1.3680043.9.7574.1.55.772.37.616.3.1614346583.426.3.62.dcm')"
   ]
  },
  {
   "cell_type": "markdown",
   "metadata": {},
   "source": [
    "### New tags\n",
    "\n",
    "- DerivationCodeSequence\n",
    "- DerivationDescription\n",
    "- LossyImageCompressionRatio\n",
    "- LossyImageCompression\n",
    "- SourceImageSequence\n",
    "\n",
    "### Changed tags\n",
    "\n",
    "- (0008, 0008) Image Type                          CS: ['DERIVED ', 'PRIMARY', 'AXIAL']\n",
    "- (0008, 0008) Image Type                          CS: ['ORIGINAL', 'PRIMARY', 'AXIAL']\n",
    "\n",
    "---\n",
    "\n",
    "- (0008, 1140) Referenced Image Sequence           SQ: <Sequence, length 1>\n",
    "- (0008, 1140) Referenced Image Sequence           SQ: <Sequence, length 1>\n",
    "\n",
    "---\n",
    "\n",
    "- (0008, 0018) SOP Instance UID                    UI: 1.2.826.0.1.3680043.2.1143.9872100504363308511163387960299132440\n",
    "- (0008, 0018) SOP Instance UID                    UI: 1.2.826.0.1.3680043.9.7574.1.55.772.37.616.3.1614346583.426.3.62\n",
    "\n",
    "---\n",
    "\n",
    "- (7fe0, 0010) Pixel Data                          OB: Array of 86754 elements\n",
    "- (7fe0, 0010) Pixel Data                          OW: Array of 786432 elements\n",
    "\n",
    "\n",
    "### Change file_meta!"
   ]
  },
  {
   "cell_type": "code",
   "execution_count": 97,
   "metadata": {},
   "outputs": [],
   "source": [
    "from pydicom import Dataset, FileDataset, DataElement \n",
    "from pydicom.dataset import FileMetaDataset\n",
    "from pydicom.encaps import encapsulate\n",
    "from simplejpeg import encode_jpeg\n",
    "# TODO : test https://www.tensorflow.org/api_docs/python/tf/io/encode_jpeg\n",
    "\n",
    "def array_to_jpeg(pixel_array:np.ndarray, quality:int = 90) -> str:\n",
    "    \"\"\"Encodes RGB, uint8 array using JPEG.\n",
    "    \n",
    "    Parameters\n",
    "    ---\n",
    "    \n",
    "    pixel_array - nd.array,\n",
    "        3-channel RGB array\n",
    "    \n",
    "    quality - int,\n",
    "        image quality, directly affects compression ratio, default is 90 (~1/9 compression).\n",
    "        \n",
    "    Returns:\n",
    "    ---\n",
    "    \n",
    "    jpeg_img - byte string\n",
    "    \n",
    "    Warning: DO NOT use this to compress grayscale single-channel uint16 images! \n",
    "    \"\"\"\n",
    "    # TODO move warning to exception\n",
    "    \n",
    "    assert len(pixel_array.shape) == 3\n",
    "    assert pixel_array.shape[2] == 3\n",
    "    \n",
    "    return encode_jpeg(pixel_array, quality=quality)\n",
    "\n",
    "def _add_tags_jpeg(instance: Dataset, compression_ratio:float) -> Dataset:\n",
    "    \"\"\"Adds dicom tags required by JPEG Baseline (Process 1).\"\"\"\n",
    "    \n",
    "#     DerivationCodeSequence\n",
    "#     SourceImageSequence\n",
    "    instance.DerivationDescription = 'lossy jpeg compression'\n",
    "    instance.LossyImageCompressionRatio = str(compression_ratio)\n",
    "    instance.LossyImageCompression = '01'\n",
    "    instance[('0011', '0002')] = DataElement(('0011', '0002'), 'LO', '506f7765726564206279204149')\n",
    "    return instance\n",
    "\n",
    "# TODO: refactor/generalize .io.set_file_meta\n",
    "def _update_header_jpeg(instance: Dataset) -> Dataset:\n",
    "    \"\"\"Updates dicom header required by JPEG Baseline (Process 1).\"\"\"\n",
    "    meta = FileMetaDataset()\n",
    "    meta.MediaStorageSOPClassUID = instance.SOPClassUID\n",
    "    meta.MediaStorageSOPInstanceUID = instance.SOPInstanceUID\n",
    "    meta.TransferSyntaxUID = '1.2.840.10008.1.2.4.50'# JPEG Baseline (Process 1)\n",
    "    instance.is_implicit_VR = False\n",
    "    instance.is_little_endian = True\n",
    "    # TODO: Optional Implementation Class UID, Implementation Version Name, Source Application Entity Title\n",
    "    instance.file_meta = meta\n",
    "    instance.preamble = b'\\x00' * 128\n",
    "    return instance\n",
    "\n",
    "def compress_frame(instance: Dataset, quality:int = 90, change_sop_uid=False) -> Dataset:\n",
    "    # TODO: do we need to modify pixel-related tags since jpeg slightly messes up min-max etc.?\n",
    "    \"\"\"\n",
    "    Compresses input instance, modifying PixelData and all required metadata tags.\n",
    "    \"\"\"\n",
    "    \n",
    "    compressed = encapsulate([array_to_jpeg(instance.pixel_array, quality)])\n",
    "    ratio = len(instance.PixelData) / len(compressed)\n",
    "    \n",
    "    instance.PixelData = compressed\n",
    "    instance.ImageType[0] = 'DERIVED'\n",
    "    \n",
    "        \n",
    "    if change_sop_uid: # first change sop_uid if needed, next update header\n",
    "        pass\n",
    "    \n",
    "    _add_tags_jpeg(instance, compression_ratio=ratio)\n",
    "    _update_header_jpeg(instance)\n",
    "    \n",
    "    return instance\n",
    "\n",
    "def compress_series(series):\n",
    "    \"\"\"\n",
    "    Compresses input dicom Series.\n",
    "    \"\"\"\n",
    "    for frame in series:\n",
    "        yield compress_frame(frame)"
   ]
  },
  {
   "cell_type": "code",
   "execution_count": 98,
   "metadata": {},
   "outputs": [],
   "source": [
    "dcm_rgb_lossy_manual = compress_frame(dcm_rgb)"
   ]
  },
  {
   "cell_type": "code",
   "execution_count": 99,
   "metadata": {},
   "outputs": [],
   "source": [
    "dcmwrite('lossy_manual.dcm', dcm_rgb_lossy_manual)"
   ]
  },
  {
   "cell_type": "code",
   "execution_count": null,
   "metadata": {},
   "outputs": [],
   "source": []
  },
  {
   "cell_type": "code",
   "execution_count": 101,
   "metadata": {},
   "outputs": [],
   "source": [
    "from tqdm.notebook import tqdm"
   ]
  },
  {
   "cell_type": "code",
   "execution_count": 104,
   "metadata": {},
   "outputs": [
    {
     "data": {
      "application/vnd.jupyter.widget-view+json": {
       "model_id": "d1676704318d4f20ad9ff8183a2cc5e6",
       "version_major": 2,
       "version_minor": 0
      },
      "text/plain": [
       "HBox(children=(HTML(value=''), FloatProgress(value=1.0, bar_style='info', layout=Layout(width='20px'), max=1.0…"
      ]
     },
     "metadata": {},
     "output_type": "display_data"
    },
    {
     "name": "stdout",
     "output_type": "stream",
     "text": [
      "1.2.826.0.1.3680043.9.7574.1.55.772.37.616.3.1614346589.634.1.25\n",
      "\n"
     ]
    }
   ],
   "source": [
    "folder = Path('/home/anvar/work/data/for_jpeg')\n",
    "uid = '1.2.826.0.1.3680043.2.135.737538.61533215.7.1607388345.750.77'\n",
    "\n",
    "for frame in tqdm((folder / uid / 'covid').glob('*.dcm')):\n",
    "    instance = dcmread(frame)\n",
    "    try:\n",
    "        compressed = compress_frame(instance)\n",
    "        dcmwrite(folder / uid / 'manual_jpeg' / f'{instance.SOPInstanceUID}.dcm', compressed)\n",
    "    except AttributeError:\n",
    "        print(instance.SOPInstanceUID)\n",
    "# dcm_rgb = dcmread(folder / uid / 'covid' / '1.2.826.0.1.3680043.9.7574.1.55.772.37.616.3.1614346583.426.3.62.dcm')"
   ]
  },
  {
   "cell_type": "code",
   "execution_count": null,
   "metadata": {},
   "outputs": [],
   "source": []
  }
 ],
 "metadata": {
  "kernelspec": {
   "display_name": "Python 3",
   "language": "python",
   "name": "python3"
  },
  "language_info": {
   "codemirror_mode": {
    "name": "ipython",
    "version": 3
   },
   "file_extension": ".py",
   "mimetype": "text/x-python",
   "name": "python",
   "nbconvert_exporter": "python",
   "pygments_lexer": "ipython3",
   "version": "3.8.5"
  }
 },
 "nbformat": 4,
 "nbformat_minor": 4
}
